{
  "nbformat": 4,
  "nbformat_minor": 0,
  "metadata": {
    "colab": {
      "provenance": [],
      "authorship_tag": "ABX9TyPcDzYG9ovtghbOwSgF1JS6",
      "include_colab_link": true
    },
    "kernelspec": {
      "name": "python3",
      "display_name": "Python 3"
    },
    "language_info": {
      "name": "python"
    }
  },
  "cells": [
    {
      "cell_type": "markdown",
      "metadata": {
        "id": "view-in-github",
        "colab_type": "text"
      },
      "source": [
        "<a href=\"https://colab.research.google.com/github/flediak/Euclid_IA_KP_paper0/blob/main/notebooks/plot_correlations.ipynb\" target=\"_parent\"><img src=\"https://colab.research.google.com/assets/colab-badge.svg\" alt=\"Open In Colab\"/></a>"
      ]
    },
    {
      "cell_type": "code",
      "execution_count": 1,
      "metadata": {
        "id": "CtKT3QaUiuxn"
      },
      "outputs": [],
      "source": [
        "from matplotlib import pyplot as plt\n",
        "from matplotlib import ticker as mticker\n",
        "import pandas as pd\n",
        "import numpy as np\n",
        "import zipfile"
      ]
    },
    {
      "cell_type": "markdown",
      "source": [
        "# install latex"
      ],
      "metadata": {
        "id": "E-EEzsHHwZuF"
      }
    },
    {
      "cell_type": "code",
      "source": [
        "!apt install texlive-latex-extra texlive-fonts-recommended dvipng cm-super"
      ],
      "metadata": {
        "colab": {
          "base_uri": "https://localhost:8080/"
        },
        "id": "s6wMApuTwYMR",
        "outputId": "bd7674db-cffa-4123-f3e0-3ed058bf25d8"
      },
      "execution_count": 2,
      "outputs": [
        {
          "output_type": "stream",
          "name": "stdout",
          "text": [
            "Reading package lists... Done\n",
            "Building dependency tree       \n",
            "Reading state information... Done\n",
            "cm-super is already the newest version (0.3.4-11).\n",
            "dvipng is already the newest version (1.15-1).\n",
            "texlive-fonts-recommended is already the newest version (2017.20180305-1).\n",
            "texlive-latex-extra is already the newest version (2017.20180305-2).\n",
            "The following package was automatically installed and is no longer required:\n",
            "  libnvidia-common-460\n",
            "Use 'apt autoremove' to remove it.\n",
            "0 upgraded, 0 newly installed, 0 to remove and 5 not upgraded.\n"
          ]
        }
      ]
    },
    {
      "cell_type": "markdown",
      "source": [
        "# download data and unzip"
      ],
      "metadata": {
        "id": "-51AzMjWkaJQ"
      }
    },
    {
      "cell_type": "code",
      "source": [
        "! gdown 1X_dKwoPWkNg3eWAh_qiWl6U81st5OK5y"
      ],
      "metadata": {
        "colab": {
          "base_uri": "https://localhost:8080/"
        },
        "id": "WOa84aBtjx_v",
        "outputId": "f0f3dc6d-7d32-40f3-cbc2-13d537073d54"
      },
      "execution_count": 3,
      "outputs": [
        {
          "output_type": "stream",
          "name": "stdout",
          "text": [
            "Downloading...\n",
            "From: https://drive.google.com/uc?id=1X_dKwoPWkNg3eWAh_qiWl6U81st5OK5y\n",
            "To: /content/correlations.zip\n",
            "\r  0% 0.00/12.0k [00:00<?, ?B/s]\r100% 12.0k/12.0k [00:00<00:00, 15.7MB/s]\n"
          ]
        }
      ]
    },
    {
      "cell_type": "code",
      "source": [
        "#doesn't extract the files for some reason..\n",
        "#with zipfile.ZipFile(\"correlations.zip\") as archive:\n",
        "#  archive.extractall(\"correlations/\")"
      ],
      "metadata": {
        "id": "-_NMvmnCoTnI"
      },
      "execution_count": 4,
      "outputs": []
    },
    {
      "cell_type": "code",
      "source": [
        "! unzip correlations.zip"
      ],
      "metadata": {
        "colab": {
          "base_uri": "https://localhost:8080/"
        },
        "id": "L17d9p-UkP1E",
        "outputId": "75b674a6-176d-45e8-88c7-201b3d89e14d"
      },
      "execution_count": 5,
      "outputs": [
        {
          "output_type": "stream",
          "name": "stdout",
          "text": [
            "Archive:  correlations.zip\n",
            "   creating: correlations/\n",
            "  inflating: correlations/corr_lowz-l3.csv  \n",
            "  inflating: correlations/corr_lowz-l1.csv  \n",
            "  inflating: correlations/corr_lowz-l2.csv  \n",
            "  inflating: correlations/corr_lowz-l4.csv  \n",
            "  inflating: correlations/corr_sdss-red.csv  \n",
            "  inflating: correlations/corr_sdss-blue.csv  \n",
            "  inflating: correlations/corr_hagn-z1p0m1.csv  \n",
            "  inflating: correlations/corr_hagn-z1p0m2.csv  \n",
            "  inflating: correlations/corr_hagn-z1p0m3.csv  \n",
            "  inflating: correlations/corr_lowz-l2_ref.csv  \n",
            "  inflating: correlations/corr_lowz-l1_ref.csv  \n",
            "  inflating: correlations/corr_lowz-l3_ref.csv  \n",
            "  inflating: correlations/corr_lowz-l4_ref.csv  \n",
            "  inflating: correlations/corr_sdss-red_ref.csv  \n",
            "  inflating: correlations/corr_sdss-blue_ref.csv  \n",
            "  inflating: correlations/corr_hagn-z1p0m1_ref.csv  \n",
            "  inflating: correlations/corr_hagn-z1p0m2_ref.csv  \n",
            "  inflating: correlations/corr_hagn-z1p0m3_ref.csv  \n"
          ]
        }
      ]
    },
    {
      "cell_type": "markdown",
      "source": [
        "# read data into dictionaries"
      ],
      "metadata": {
        "id": "bMrc88omtG8J"
      }
    },
    {
      "cell_type": "code",
      "source": [
        "corr_obs = {'lowz-l1':[],\n",
        "            'lowz-l2':[],\n",
        "            'lowz-l3':[],\n",
        "            'lowz-l4':[],\n",
        "            'sdss-red':[],\n",
        "            'sdss-blue':[],\n",
        "            }\n",
        "\n",
        "corr_obs_ref = {'lowz-l1_ref':[],\n",
        "            'lowz-l2_ref':[],\n",
        "            'lowz-l3_ref':[],\n",
        "            'lowz-l4_ref':[],\n",
        "            'sdss-red_ref':[],\n",
        "            'sdss-blue_ref':[],\n",
        "            }\n",
        "\n",
        "\n",
        "corr_hagn = {'hagn-z1p0m1':[],\n",
        "             'hagn-z1p0m2':[],\n",
        "             'hagn-z1p0m3':[],\n",
        "            }\n",
        "\n",
        "corr_hagn_ref = {'hagn-z1p0m1_ref':[],\n",
        "             'hagn-z1p0m2_ref':[],\n",
        "             'hagn-z1p0m3_ref':[],\n",
        "            }\n"
      ],
      "metadata": {
        "id": "JI9EDBwBi56U"
      },
      "execution_count": 6,
      "outputs": []
    },
    {
      "cell_type": "code",
      "source": [
        "def read_correlations(dir_corr, dict_corr):\n",
        "\n",
        "  for key in dict_corr:\n",
        "    fname = dir_corr + 'corr_' + key + '.csv'\n",
        "    dict_corr[key] = pd.read_csv(fname, sep = ',')\n",
        "\n",
        "  return dict_corr"
      ],
      "metadata": {
        "id": "ZwVNYeCYnJaX"
      },
      "execution_count": 7,
      "outputs": []
    },
    {
      "cell_type": "code",
      "source": [
        "dir_corr = 'correlations/'\n",
        "\n",
        "corr_obs = read_correlations(dir_corr, corr_obs)\n",
        "corr_obs_ref = read_correlations(dir_corr, corr_obs_ref)\n",
        "\n",
        "corr_hagn = read_correlations(dir_corr, corr_hagn)\n",
        "corr_hagn_ref = read_correlations(dir_corr, corr_hagn_ref)"
      ],
      "metadata": {
        "id": "ev9InWPVn0pp"
      },
      "execution_count": 8,
      "outputs": []
    },
    {
      "cell_type": "code",
      "source": [
        "#corr_obs['lowz-l1']\n",
        "corr_hagn['hagn-z1p0m1']"
      ],
      "metadata": {
        "colab": {
          "base_uri": "https://localhost:8080/",
          "height": 363
        },
        "id": "JDBa13lBkuTC",
        "outputId": "9e4ec401-8432-4ea2-da00-8d078cbc6e66"
      },
      "execution_count": 9,
      "outputs": [
        {
          "output_type": "execute_result",
          "data": {
            "text/plain": [
              "           r   r12_v1a  r12_v1a_std   r12_v1b  r12_v1b_std\n",
              "0   0.134928  0.505646     0.004600  0.495931     0.005959\n",
              "1   0.245646  0.506731     0.002373  0.490726     0.003546\n",
              "2   0.447214  0.513816     0.004673  0.486570     0.002943\n",
              "3   0.814181  0.524743     0.002956  0.476516     0.002746\n",
              "4   1.482269  0.533493     0.002629  0.467537     0.003350\n",
              "5   2.698566  0.528339     0.003062  0.471831     0.002728\n",
              "6   4.912912  0.519195     0.001202  0.480661     0.001434\n",
              "7   8.944272  0.510638     0.001092  0.489738     0.001265\n",
              "8  16.283621  0.504947     0.000856  0.494692     0.000944\n",
              "9  29.645378  0.502663     0.001014  0.497392     0.001058"
            ],
            "text/html": [
              "\n",
              "  <div id=\"df-92fc72cd-a970-4280-a2cd-9c48f38d2540\">\n",
              "    <div class=\"colab-df-container\">\n",
              "      <div>\n",
              "<style scoped>\n",
              "    .dataframe tbody tr th:only-of-type {\n",
              "        vertical-align: middle;\n",
              "    }\n",
              "\n",
              "    .dataframe tbody tr th {\n",
              "        vertical-align: top;\n",
              "    }\n",
              "\n",
              "    .dataframe thead th {\n",
              "        text-align: right;\n",
              "    }\n",
              "</style>\n",
              "<table border=\"1\" class=\"dataframe\">\n",
              "  <thead>\n",
              "    <tr style=\"text-align: right;\">\n",
              "      <th></th>\n",
              "      <th>r</th>\n",
              "      <th>r12_v1a</th>\n",
              "      <th>r12_v1a_std</th>\n",
              "      <th>r12_v1b</th>\n",
              "      <th>r12_v1b_std</th>\n",
              "    </tr>\n",
              "  </thead>\n",
              "  <tbody>\n",
              "    <tr>\n",
              "      <th>0</th>\n",
              "      <td>0.134928</td>\n",
              "      <td>0.505646</td>\n",
              "      <td>0.004600</td>\n",
              "      <td>0.495931</td>\n",
              "      <td>0.005959</td>\n",
              "    </tr>\n",
              "    <tr>\n",
              "      <th>1</th>\n",
              "      <td>0.245646</td>\n",
              "      <td>0.506731</td>\n",
              "      <td>0.002373</td>\n",
              "      <td>0.490726</td>\n",
              "      <td>0.003546</td>\n",
              "    </tr>\n",
              "    <tr>\n",
              "      <th>2</th>\n",
              "      <td>0.447214</td>\n",
              "      <td>0.513816</td>\n",
              "      <td>0.004673</td>\n",
              "      <td>0.486570</td>\n",
              "      <td>0.002943</td>\n",
              "    </tr>\n",
              "    <tr>\n",
              "      <th>3</th>\n",
              "      <td>0.814181</td>\n",
              "      <td>0.524743</td>\n",
              "      <td>0.002956</td>\n",
              "      <td>0.476516</td>\n",
              "      <td>0.002746</td>\n",
              "    </tr>\n",
              "    <tr>\n",
              "      <th>4</th>\n",
              "      <td>1.482269</td>\n",
              "      <td>0.533493</td>\n",
              "      <td>0.002629</td>\n",
              "      <td>0.467537</td>\n",
              "      <td>0.003350</td>\n",
              "    </tr>\n",
              "    <tr>\n",
              "      <th>5</th>\n",
              "      <td>2.698566</td>\n",
              "      <td>0.528339</td>\n",
              "      <td>0.003062</td>\n",
              "      <td>0.471831</td>\n",
              "      <td>0.002728</td>\n",
              "    </tr>\n",
              "    <tr>\n",
              "      <th>6</th>\n",
              "      <td>4.912912</td>\n",
              "      <td>0.519195</td>\n",
              "      <td>0.001202</td>\n",
              "      <td>0.480661</td>\n",
              "      <td>0.001434</td>\n",
              "    </tr>\n",
              "    <tr>\n",
              "      <th>7</th>\n",
              "      <td>8.944272</td>\n",
              "      <td>0.510638</td>\n",
              "      <td>0.001092</td>\n",
              "      <td>0.489738</td>\n",
              "      <td>0.001265</td>\n",
              "    </tr>\n",
              "    <tr>\n",
              "      <th>8</th>\n",
              "      <td>16.283621</td>\n",
              "      <td>0.504947</td>\n",
              "      <td>0.000856</td>\n",
              "      <td>0.494692</td>\n",
              "      <td>0.000944</td>\n",
              "    </tr>\n",
              "    <tr>\n",
              "      <th>9</th>\n",
              "      <td>29.645378</td>\n",
              "      <td>0.502663</td>\n",
              "      <td>0.001014</td>\n",
              "      <td>0.497392</td>\n",
              "      <td>0.001058</td>\n",
              "    </tr>\n",
              "  </tbody>\n",
              "</table>\n",
              "</div>\n",
              "      <button class=\"colab-df-convert\" onclick=\"convertToInteractive('df-92fc72cd-a970-4280-a2cd-9c48f38d2540')\"\n",
              "              title=\"Convert this dataframe to an interactive table.\"\n",
              "              style=\"display:none;\">\n",
              "        \n",
              "  <svg xmlns=\"http://www.w3.org/2000/svg\" height=\"24px\"viewBox=\"0 0 24 24\"\n",
              "       width=\"24px\">\n",
              "    <path d=\"M0 0h24v24H0V0z\" fill=\"none\"/>\n",
              "    <path d=\"M18.56 5.44l.94 2.06.94-2.06 2.06-.94-2.06-.94-.94-2.06-.94 2.06-2.06.94zm-11 1L8.5 8.5l.94-2.06 2.06-.94-2.06-.94L8.5 2.5l-.94 2.06-2.06.94zm10 10l.94 2.06.94-2.06 2.06-.94-2.06-.94-.94-2.06-.94 2.06-2.06.94z\"/><path d=\"M17.41 7.96l-1.37-1.37c-.4-.4-.92-.59-1.43-.59-.52 0-1.04.2-1.43.59L10.3 9.45l-7.72 7.72c-.78.78-.78 2.05 0 2.83L4 21.41c.39.39.9.59 1.41.59.51 0 1.02-.2 1.41-.59l7.78-7.78 2.81-2.81c.8-.78.8-2.07 0-2.86zM5.41 20L4 18.59l7.72-7.72 1.47 1.35L5.41 20z\"/>\n",
              "  </svg>\n",
              "      </button>\n",
              "      \n",
              "  <style>\n",
              "    .colab-df-container {\n",
              "      display:flex;\n",
              "      flex-wrap:wrap;\n",
              "      gap: 12px;\n",
              "    }\n",
              "\n",
              "    .colab-df-convert {\n",
              "      background-color: #E8F0FE;\n",
              "      border: none;\n",
              "      border-radius: 50%;\n",
              "      cursor: pointer;\n",
              "      display: none;\n",
              "      fill: #1967D2;\n",
              "      height: 32px;\n",
              "      padding: 0 0 0 0;\n",
              "      width: 32px;\n",
              "    }\n",
              "\n",
              "    .colab-df-convert:hover {\n",
              "      background-color: #E2EBFA;\n",
              "      box-shadow: 0px 1px 2px rgba(60, 64, 67, 0.3), 0px 1px 3px 1px rgba(60, 64, 67, 0.15);\n",
              "      fill: #174EA6;\n",
              "    }\n",
              "\n",
              "    [theme=dark] .colab-df-convert {\n",
              "      background-color: #3B4455;\n",
              "      fill: #D2E3FC;\n",
              "    }\n",
              "\n",
              "    [theme=dark] .colab-df-convert:hover {\n",
              "      background-color: #434B5C;\n",
              "      box-shadow: 0px 1px 3px 1px rgba(0, 0, 0, 0.15);\n",
              "      filter: drop-shadow(0px 1px 2px rgba(0, 0, 0, 0.3));\n",
              "      fill: #FFFFFF;\n",
              "    }\n",
              "  </style>\n",
              "\n",
              "      <script>\n",
              "        const buttonEl =\n",
              "          document.querySelector('#df-92fc72cd-a970-4280-a2cd-9c48f38d2540 button.colab-df-convert');\n",
              "        buttonEl.style.display =\n",
              "          google.colab.kernel.accessAllowed ? 'block' : 'none';\n",
              "\n",
              "        async function convertToInteractive(key) {\n",
              "          const element = document.querySelector('#df-92fc72cd-a970-4280-a2cd-9c48f38d2540');\n",
              "          const dataTable =\n",
              "            await google.colab.kernel.invokeFunction('convertToInteractive',\n",
              "                                                     [key], {});\n",
              "          if (!dataTable) return;\n",
              "\n",
              "          const docLinkHtml = 'Like what you see? Visit the ' +\n",
              "            '<a target=\"_blank\" href=https://colab.research.google.com/notebooks/data_table.ipynb>data table notebook</a>'\n",
              "            + ' to learn more about interactive tables.';\n",
              "          element.innerHTML = '';\n",
              "          dataTable['output_type'] = 'display_data';\n",
              "          await google.colab.output.renderOutput(dataTable, element);\n",
              "          const docLink = document.createElement('div');\n",
              "          docLink.innerHTML = docLinkHtml;\n",
              "          element.appendChild(docLink);\n",
              "        }\n",
              "      </script>\n",
              "    </div>\n",
              "  </div>\n",
              "  "
            ]
          },
          "metadata": {},
          "execution_count": 9
        }
      ]
    },
    {
      "cell_type": "markdown",
      "source": [
        "# plot $w_{gg}$\n",
        "note: latex error on first execution can be solved by running the cell again"
      ],
      "metadata": {
        "id": "lGrh_pXiqgwV"
      }
    },
    {
      "cell_type": "code",
      "source": [
        "Ncol = len(corr_obs)\n",
        "\n",
        "fig, ax = plt.subplots(2,Ncol,figsize=(Ncol*3,6), sharex=True, sharey='row', gridspec_kw={'height_ratios': [3, 2]})\n",
        "\n",
        "fontsize = 16\n",
        "plt.rc('font', family='serif')\n",
        "plt.rc('text', usetex=True)\n",
        "\n",
        "\n",
        "#put correlations in list\n",
        "corr = []\n",
        "for key in corr_obs: \n",
        "  corr.append(corr_obs[key])\n",
        "\n",
        "corr_ref = []\n",
        "for key in corr_obs_ref: \n",
        "  corr_ref.append(corr_obs_ref[key])\n",
        "\n",
        "\n",
        "# ============ wgg ==============\n",
        "row = 0\n",
        "\n",
        "for i in range(Ncol): \n",
        "\n",
        "  #reference\n",
        "  ax[row,i].errorbar(corr_ref[i].rp,\n",
        "                     corr_ref[i].rp*corr_ref[i].wgg,\n",
        "                     corr_ref[i].rp*corr_ref[i].wggerr,\n",
        "                     color='k',linestyle='', lw=1, label='obs.', marker='o')\n",
        "  \n",
        "  #FS2\n",
        "  ax[row,i].errorbar(corr[i].rp,\n",
        "                     corr[i].rp*corr[i].wgg,\n",
        "                     corr[i].rp*corr[i].wggerr,\n",
        "                     color='r',linestyle='', lw=1, label='FS2', marker='o', fillstyle='none')\n",
        "\n",
        "\n",
        "\n",
        "# ============ wgg_sim / wgg_obs -1 ==============\n",
        "row = 1\n",
        "\n",
        "for i in range(Ncol): \n",
        "\n",
        "  ax[row,i].fill_between(\n",
        "                    corr_ref[i].rp,\n",
        "                    -corr_ref[i].wggerr / corr_ref[i].wgg,\n",
        "                    corr_ref[i].wggerr / corr_ref[i].wgg,\n",
        "                    facecolor='lightgrey', interpolate=True)\n",
        "\n",
        "  ax[row,i].errorbar(corr[i].rp,\n",
        "                     corr[i].wgg / corr_ref[i].wgg-1,\n",
        "                     corr[i].wggerr / corr_ref[i].wgg,\n",
        "                     color='r',linestyle='', lw=1, label='FS2', marker='o', fillstyle='none')\n",
        "    \n",
        "\n",
        "\n",
        "# ================== config. ================\n",
        "plt.rc('xtick', labelsize=fontsize)\n",
        "plt.rc('ytick', labelsize=fontsize)\n",
        "\n",
        "# set spacing between panels\n",
        "plt.subplots_adjust(wspace=0.1, hspace=0.1)\n",
        "\n",
        "# axis labels\n",
        "ax[0,0].set_ylabel(r'$r_p \\ w_{gg} \\ [h^{-1}\\textrm{Mpc}]^2$',fontsize=fontsize)\n",
        "ax[1,0].set_ylabel(r'$w_{gg}^{FS2} / w_{gg}^{obs.} - 1$',fontsize=fontsize)\n",
        "#ax[1,0].set_ylabel(r'$\\frac{w_{gg}^{FS2}}{w_{gg}^{obs.}} - 1$',fontsize=fontsize)\n",
        "\n",
        "#titles\n",
        "titles = ['LOWZ main-L1', 'LOWZ main-L2', 'LOWZ main-L3', 'LOWZ main-L4', 'SDSS red-red', 'SDSS blue-blue']\n",
        "for i in range(Ncol):  \n",
        "  ax[0,i].set_title(titles[i],fontsize=fontsize)\n",
        "\n",
        "\n",
        "\n",
        "#out legend in last column\n",
        "ax[0,-1].legend(fontsize=fontsize)\n",
        "\n",
        "\n",
        "# set y-tics\n",
        "ax[1,0].set_yticks(np.arange(-200, 1000, step=200))#top row\n",
        "ax[1,0].set_yticks(np.arange(-10, 10, step=1))#bottom row\n",
        "\n",
        "\n",
        "#settings for all columns\n",
        "for col in range(Ncol):\n",
        "\n",
        "  x_vline = 5\n",
        "\n",
        "  row=0\n",
        "  ax[row,col].set_ylim(-100,800)\n",
        "  ax[row,col].axvline(x=x_vline, c='k', ymax=0.5, ls='--')\n",
        "   \n",
        "  row=1\n",
        "  ax[row,col].set_ylim(-2,2)\n",
        "  ax[row,col].axhline(y=-0.2, c='k', ls='--')\n",
        "  ax[row,col].axhline(y=0.2, c='k', ls='--')\n",
        "  ax[row,col].axvline(x=x_vline, c='k', ymax=0.5, ls='--')\n",
        "  ax[row,col].set_xlabel(r'$r_p \\ [h^{-1}\\textrm{Mpc}]$',fontsize=fontsize)\n",
        "\n",
        "  for row in range(2):\n",
        "   \n",
        "    ax[row,col].set_xlim(0.05,200)\n",
        "    ax[row,col].set_xscale('log')\n",
        "    ax[row,col].axhline(y=0, c='k', ls='--')\n",
        "    #see https://matplotlib.org/stable/gallery/ticks/tick-locators.html\n",
        "    ax[row, col].xaxis.get_major_locator().set_params(base=10,numticks=10)\n",
        "    ax[row, col].xaxis.get_minor_locator().set_params(numticks=10, subs=[.2, .4, .6, .8])\n",
        "    ax[row,col].tick_params(axis='both',labelsize=fontsize)\n",
        "\n",
        "plt.savefig(\"wgg_fs2_vs_obs.pdf\",bbox_inches='tight', pad_inches = 0.1)\n",
        "plt.show()"
      ],
      "metadata": {
        "colab": {
          "base_uri": "https://localhost:8080/",
          "height": 417
        },
        "id": "YUCo6G80qoQt",
        "outputId": "c8b1ac53-583f-44a5-f5d1-e627b86ba7b6"
      },
      "execution_count": 11,
      "outputs": [
        {
          "output_type": "display_data",
          "data": {
            "text/plain": [
              "<Figure size 1296x432 with 12 Axes>"
            ],
            "image/png": "[encoded data removed]"
          },
          "metadata": {
            "needs_background": "light"
          }
        }
      ]
    },
    {
      "cell_type": "markdown",
      "source": [
        "# plot $w_{g+}$"
      ],
      "metadata": {
        "id": "5OkX7h394_7w"
      }
    },
    {
      "cell_type": "code",
      "source": [
        "Ncol = len(corr_obs)\n",
        "\n",
        "fig, ax = plt.subplots(2,Ncol,figsize=(Ncol*3,6), sharex=True, sharey='row', gridspec_kw={'height_ratios': [3, 2]})\n",
        "\n",
        "fontsize = 16\n",
        "\n",
        "plt.rc('text', usetex=True)\n",
        "plt.rc('font', family='serif')\n",
        "\n",
        "#put correlations in list\n",
        "corr = []\n",
        "for key in corr_obs: \n",
        "  corr.append(corr_obs[key])\n",
        "\n",
        "corr_ref = []\n",
        "for key in corr_obs_ref: \n",
        "  corr_ref.append(corr_obs_ref[key])\n",
        "\n",
        "\n",
        "# ============ wgp ==============\n",
        "row = 0\n",
        "\n",
        "for i in range(Ncol): \n",
        "\n",
        "  #reference\n",
        "  ax[row,i].errorbar(corr_ref[i].rp,\n",
        "                     corr_ref[i].rp*corr_ref[i].wgp,\n",
        "                     corr_ref[i].rp*corr_ref[i].wgperr,\n",
        "                     color='k',linestyle='', lw=2, label='obs.', marker='o')\n",
        "  \n",
        "  #FS2\n",
        "  ax[row,i].errorbar(corr[i].rp,\n",
        "                     corr[i].rp*corr[i].wgp,\n",
        "                     corr[i].rp*corr[i].wgperr,\n",
        "                     color='r',linestyle='', lw=1, label='FS2', marker='o', fillstyle='none')\n",
        "\n",
        "\n",
        "\n",
        "# ============ wgp_sim / wgp_obs -1 ==============\n",
        "row = 1\n",
        "\n",
        "for i in range(Ncol): \n",
        "\n",
        "  ax[row,i].fill_between(\n",
        "                    corr_ref[i].rp,\n",
        "                    -corr_ref[i].wgperr / corr_ref[i].wgp,\n",
        "                    corr_ref[i].wgperr / corr_ref[i].wgp,\n",
        "                    facecolor='lightgrey', interpolate=True)\n",
        "\n",
        "  ax[row,i].errorbar(corr[i].rp,\n",
        "                     corr[i].wgp / corr_ref[i].wgp-1,\n",
        "                     corr[i].wgperr / corr_ref[i].wgp,\n",
        "                     color='r',linestyle='', lw=1, label='FS2', marker='o', fillstyle='none')\n",
        "    \n",
        "\n",
        "\n",
        "# ================== config. ================\n",
        "plt.rc('xtick', labelsize=fontsize)\n",
        "plt.rc('ytick', labelsize=fontsize)\n",
        "\n",
        "# set spacing between panels\n",
        "plt.subplots_adjust(wspace=0.1, hspace=0.1)\n",
        "\n",
        "# axis labels\n",
        "ax[0,0].set_ylabel(r'$r_p \\ w_{g+} \\ [h^{-1}\\textrm{Mpc}]^2$',fontsize=fontsize)\n",
        "ax[1,0].set_ylabel(r'$w_{gg}^{FS2} / w_{g+}^{obs.} - 1$',fontsize=fontsize)\n",
        "#ax[1,0].set_ylabel(r'$\\frac{w_{g+}^{FS2}}{w_{g+}^{obs.}} - 1$',fontsize=fontsize)\n",
        "\n",
        "#titles\n",
        "titles = ['LOWZ main-L1', 'LOWZ main-L2', 'LOWZ main-L3', 'LOWZ main-L4', 'SDSS red-red', 'SDSS blue-blue']\n",
        "for i in range(Ncol):  \n",
        "  ax[0,i].set_title(titles[i],fontsize=fontsize)\n",
        "\n",
        "\n",
        "\n",
        "#out legend in last column\n",
        "ax[0,-1].legend(fontsize=fontsize)\n",
        "\n",
        "\n",
        "# set y-tics\n",
        "ax[0,0].set_yticks(np.arange(-10, 10, step=2))#top row\n",
        "ax[1,0].set_yticks(np.arange(-10, 10, step=2))#bottom row\n",
        "\n",
        "\n",
        "#settings for all columns\n",
        "for col in range(Ncol):\n",
        "\n",
        "  x_vline = 5\n",
        "\n",
        "  row=0\n",
        "  ax[row,col].set_ylim(-2,8)\n",
        "  ax[row,col].axvline(x=x_vline, c='k', ymax=0.5, ls='--')\n",
        "   \n",
        "  row=1\n",
        "  ax[row,col].set_ylim(-4,4)\n",
        "  ax[row,col].axhline(y=-1, c='k', ls='--')\n",
        "  ax[row,col].axhline(y=1, c='k', ls='--')\n",
        "  ax[row,col].axvline(x=x_vline, c='k', ymax=0.5, ls='--')\n",
        "  ax[row,col].set_xlabel(r'$r_p \\ [h^{-1}\\textrm{Mpc}]$',fontsize=fontsize)\n",
        "\n",
        "  for row in range(2):\n",
        "   \n",
        "    ax[row,col].set_xlim(0.05,200)\n",
        "    ax[row,col].set_xscale('log')\n",
        "    ax[row,col].axhline(y=0, c='k', ls='--')\n",
        "    #see https://matplotlib.org/stable/gallery/ticks/tick-locators.html\n",
        "    ax[row, col].xaxis.get_major_locator().set_params(base=10,numticks=10)\n",
        "    ax[row, col].xaxis.get_minor_locator().set_params(numticks=10, subs=[.2, .4, .6, .8])\n",
        "    ax[row,col].tick_params(axis='both',labelsize=fontsize)\n",
        "\n",
        "plt.savefig(\"wgp_fs2_vs_obs.pdf\",bbox_inches='tight', pad_inches = 0.1)\n",
        "plt.show()"
      ],
      "metadata": {
        "colab": {
          "base_uri": "https://localhost:8080/",
          "height": 417
        },
        "id": "vHO1jI04403C",
        "outputId": "84d462eb-d36c-447a-ae68-11aaf51c1bbd"
      },
      "execution_count": 12,
      "outputs": [
        {
          "output_type": "display_data",
          "data": {
            "text/plain": [
              "<Figure size 1296x432 with 12 Axes>"
            ],
            "image/png": "[encoded data removed]"
          },
          "metadata": {
            "needs_background": "light"
          }
        }
      ]
    },
    {
      "cell_type": "markdown",
      "source": [
        "# download plots"
      ],
      "metadata": {
        "id": "ZzxfW5JaJJzZ"
      }
    },
    {
      "cell_type": "code",
      "source": [
        "from google.colab import files"
      ],
      "metadata": {
        "id": "31uHJmJKJSvi"
      },
      "execution_count": 13,
      "outputs": []
    },
    {
      "cell_type": "code",
      "source": [
        "files.download(\"wgg_fs2_vs_obs.pdf\")\n",
        "files.download(\"wgp_fs2_vs_obs.pdf\")"
      ],
      "metadata": {
        "colab": {
          "base_uri": "https://localhost:8080/",
          "height": 17
        },
        "id": "72SoaTdW5Jg8",
        "outputId": "74cee2ef-53eb-47a7-fb85-970aa4e7078d"
      },
      "execution_count": 14,
      "outputs": [
        {
          "output_type": "display_data",
          "data": {
            "text/plain": [
              "<IPython.core.display.Javascript object>"
            ],
            "application/javascript": [
              "\n",
              "    async function download(id, filename, size) {\n",
              "      if (!google.colab.kernel.accessAllowed) {\n",
              "        return;\n",
              "      }\n",
              "      const div = document.createElement('div');\n",
              "      const label = document.createElement('label');\n",
              "      label.textContent = `Downloading \"${filename}\": `;\n",
              "      div.appendChild(label);\n",
              "      const progress = document.createElement('progress');\n",
              "      progress.max = size;\n",
              "      div.appendChild(progress);\n",
              "      document.body.appendChild(div);\n",
              "\n",
              "      const buffers = [];\n",
              "      let downloaded = 0;\n",
              "\n",
              "      const channel = await google.colab.kernel.comms.open(id);\n",
              "      // Send a message to notify the kernel that we're ready.\n",
              "      channel.send({})\n",
              "\n",
              "      for await (const message of channel.messages) {\n",
              "        // Send a message to notify the kernel that we're ready.\n",
              "        channel.send({})\n",
              "        if (message.buffers) {\n",
              "          for (const buffer of message.buffers) {\n",
              "            buffers.push(buffer);\n",
              "            downloaded += buffer.byteLength;\n",
              "            progress.value = downloaded;\n",
              "          }\n",
              "        }\n",
              "      }\n",
              "      const blob = new Blob(buffers, {type: 'application/binary'});\n",
              "      const a = document.createElement('a');\n",
              "      a.href = window.URL.createObjectURL(blob);\n",
              "      a.download = filename;\n",
              "      div.appendChild(a);\n",
              "      a.click();\n",
              "      div.remove();\n",
              "    }\n",
              "  "
            ]
          },
          "metadata": {}
        },
        {
          "output_type": "display_data",
          "data": {
            "text/plain": [
              "<IPython.core.display.Javascript object>"
            ],
            "application/javascript": [
              "download(\"download_f5fba055-fcef-4a57-bc41-7bfea7c04123\", \"wgg_fs2_vs_obs.pdf\", 193074)"
            ]
          },
          "metadata": {}
        },
        {
          "output_type": "display_data",
          "data": {
            "text/plain": [
              "<IPython.core.display.Javascript object>"
            ],
            "application/javascript": [
              "\n",
              "    async function download(id, filename, size) {\n",
              "      if (!google.colab.kernel.accessAllowed) {\n",
              "        return;\n",
              "      }\n",
              "      const div = document.createElement('div');\n",
              "      const label = document.createElement('label');\n",
              "      label.textContent = `Downloading \"${filename}\": `;\n",
              "      div.appendChild(label);\n",
              "      const progress = document.createElement('progress');\n",
              "      progress.max = size;\n",
              "      div.appendChild(progress);\n",
              "      document.body.appendChild(div);\n",
              "\n",
              "      const buffers = [];\n",
              "      let downloaded = 0;\n",
              "\n",
              "      const channel = await google.colab.kernel.comms.open(id);\n",
              "      // Send a message to notify the kernel that we're ready.\n",
              "      channel.send({})\n",
              "\n",
              "      for await (const message of channel.messages) {\n",
              "        // Send a message to notify the kernel that we're ready.\n",
              "        channel.send({})\n",
              "        if (message.buffers) {\n",
              "          for (const buffer of message.buffers) {\n",
              "            buffers.push(buffer);\n",
              "            downloaded += buffer.byteLength;\n",
              "            progress.value = downloaded;\n",
              "          }\n",
              "        }\n",
              "      }\n",
              "      const blob = new Blob(buffers, {type: 'application/binary'});\n",
              "      const a = document.createElement('a');\n",
              "      a.href = window.URL.createObjectURL(blob);\n",
              "      a.download = filename;\n",
              "      div.appendChild(a);\n",
              "      a.click();\n",
              "      div.remove();\n",
              "    }\n",
              "  "
            ]
          },
          "metadata": {}
        },
        {
          "output_type": "display_data",
          "data": {
            "text/plain": [
              "<IPython.core.display.Javascript object>"
            ],
            "application/javascript": [
              "download(\"download_9685f98a-ca36-4b62-af17-1513874a6f59\", \"wgp_fs2_vs_obs.pdf\", 193511)"
            ]
          },
          "metadata": {}
        }
      ]
    },
    {
      "cell_type": "markdown",
      "source": [
        "# plot $\\eta$"
      ],
      "metadata": {
        "id": "Y_SHy6wjsI6h"
      }
    },
    {
      "cell_type": "code",
      "source": [
        "corr_hagn['hagn-z1p0m1']"
      ],
      "metadata": {
        "colab": {
          "base_uri": "https://localhost:8080/",
          "height": 363
        },
        "id": "YOWtVoaitrNn",
        "outputId": "7bbf0bab-2711-43db-b6de-4ecd77ff6f27"
      },
      "execution_count": 15,
      "outputs": [
        {
          "output_type": "execute_result",
          "data": {
            "text/plain": [
              "           r   r12_v1a  r12_v1a_std   r12_v1b  r12_v1b_std\n",
              "0   0.134928  0.505646     0.004600  0.495931     0.005959\n",
              "1   0.245646  0.506731     0.002373  0.490726     0.003546\n",
              "2   0.447214  0.513816     0.004673  0.486570     0.002943\n",
              "3   0.814181  0.524743     0.002956  0.476516     0.002746\n",
              "4   1.482269  0.533493     0.002629  0.467537     0.003350\n",
              "5   2.698566  0.528339     0.003062  0.471831     0.002728\n",
              "6   4.912912  0.519195     0.001202  0.480661     0.001434\n",
              "7   8.944272  0.510638     0.001092  0.489738     0.001265\n",
              "8  16.283621  0.504947     0.000856  0.494692     0.000944\n",
              "9  29.645378  0.502663     0.001014  0.497392     0.001058"
            ],
            "text/html": [
              "\n",
              "  <div id=\"df-709a1713-ffbe-4d9f-9d1e-340981545272\">\n",
              "    <div class=\"colab-df-container\">\n",
              "      <div>\n",
              "<style scoped>\n",
              "    .dataframe tbody tr th:only-of-type {\n",
              "        vertical-align: middle;\n",
              "    }\n",
              "\n",
              "    .dataframe tbody tr th {\n",
              "        vertical-align: top;\n",
              "    }\n",
              "\n",
              "    .dataframe thead th {\n",
              "        text-align: right;\n",
              "    }\n",
              "</style>\n",
              "<table border=\"1\" class=\"dataframe\">\n",
              "  <thead>\n",
              "    <tr style=\"text-align: right;\">\n",
              "      <th></th>\n",
              "      <th>r</th>\n",
              "      <th>r12_v1a</th>\n",
              "      <th>r12_v1a_std</th>\n",
              "      <th>r12_v1b</th>\n",
              "      <th>r12_v1b_std</th>\n",
              "    </tr>\n",
              "  </thead>\n",
              "  <tbody>\n",
              "    <tr>\n",
              "      <th>0</th>\n",
              "      <td>0.134928</td>\n",
              "      <td>0.505646</td>\n",
              "      <td>0.004600</td>\n",
              "      <td>0.495931</td>\n",
              "      <td>0.005959</td>\n",
              "    </tr>\n",
              "    <tr>\n",
              "      <th>1</th>\n",
              "      <td>0.245646</td>\n",
              "      <td>0.506731</td>\n",
              "      <td>0.002373</td>\n",
              "      <td>0.490726</td>\n",
              "      <td>0.003546</td>\n",
              "    </tr>\n",
              "    <tr>\n",
              "      <th>2</th>\n",
              "      <td>0.447214</td>\n",
              "      <td>0.513816</td>\n",
              "      <td>0.004673</td>\n",
              "      <td>0.486570</td>\n",
              "      <td>0.002943</td>\n",
              "    </tr>\n",
              "    <tr>\n",
              "      <th>3</th>\n",
              "      <td>0.814181</td>\n",
              "      <td>0.524743</td>\n",
              "      <td>0.002956</td>\n",
              "      <td>0.476516</td>\n",
              "      <td>0.002746</td>\n",
              "    </tr>\n",
              "    <tr>\n",
              "      <th>4</th>\n",
              "      <td>1.482269</td>\n",
              "      <td>0.533493</td>\n",
              "      <td>0.002629</td>\n",
              "      <td>0.467537</td>\n",
              "      <td>0.003350</td>\n",
              "    </tr>\n",
              "    <tr>\n",
              "      <th>5</th>\n",
              "      <td>2.698566</td>\n",
              "      <td>0.528339</td>\n",
              "      <td>0.003062</td>\n",
              "      <td>0.471831</td>\n",
              "      <td>0.002728</td>\n",
              "    </tr>\n",
              "    <tr>\n",
              "      <th>6</th>\n",
              "      <td>4.912912</td>\n",
              "      <td>0.519195</td>\n",
              "      <td>0.001202</td>\n",
              "      <td>0.480661</td>\n",
              "      <td>0.001434</td>\n",
              "    </tr>\n",
              "    <tr>\n",
              "      <th>7</th>\n",
              "      <td>8.944272</td>\n",
              "      <td>0.510638</td>\n",
              "      <td>0.001092</td>\n",
              "      <td>0.489738</td>\n",
              "      <td>0.001265</td>\n",
              "    </tr>\n",
              "    <tr>\n",
              "      <th>8</th>\n",
              "      <td>16.283621</td>\n",
              "      <td>0.504947</td>\n",
              "      <td>0.000856</td>\n",
              "      <td>0.494692</td>\n",
              "      <td>0.000944</td>\n",
              "    </tr>\n",
              "    <tr>\n",
              "      <th>9</th>\n",
              "      <td>29.645378</td>\n",
              "      <td>0.502663</td>\n",
              "      <td>0.001014</td>\n",
              "      <td>0.497392</td>\n",
              "      <td>0.001058</td>\n",
              "    </tr>\n",
              "  </tbody>\n",
              "</table>\n",
              "</div>\n",
              "      <button class=\"colab-df-convert\" onclick=\"convertToInteractive('df-709a1713-ffbe-4d9f-9d1e-340981545272')\"\n",
              "              title=\"Convert this dataframe to an interactive table.\"\n",
              "              style=\"display:none;\">\n",
              "        \n",
              "  <svg xmlns=\"http://www.w3.org/2000/svg\" height=\"24px\"viewBox=\"0 0 24 24\"\n",
              "       width=\"24px\">\n",
              "    <path d=\"M0 0h24v24H0V0z\" fill=\"none\"/>\n",
              "    <path d=\"M18.56 5.44l.94 2.06.94-2.06 2.06-.94-2.06-.94-.94-2.06-.94 2.06-2.06.94zm-11 1L8.5 8.5l.94-2.06 2.06-.94-2.06-.94L8.5 2.5l-.94 2.06-2.06.94zm10 10l.94 2.06.94-2.06 2.06-.94-2.06-.94-.94-2.06-.94 2.06-2.06.94z\"/><path d=\"M17.41 7.96l-1.37-1.37c-.4-.4-.92-.59-1.43-.59-.52 0-1.04.2-1.43.59L10.3 9.45l-7.72 7.72c-.78.78-.78 2.05 0 2.83L4 21.41c.39.39.9.59 1.41.59.51 0 1.02-.2 1.41-.59l7.78-7.78 2.81-2.81c.8-.78.8-2.07 0-2.86zM5.41 20L4 18.59l7.72-7.72 1.47 1.35L5.41 20z\"/>\n",
              "  </svg>\n",
              "      </button>\n",
              "      \n",
              "  <style>\n",
              "    .colab-df-container {\n",
              "      display:flex;\n",
              "      flex-wrap:wrap;\n",
              "      gap: 12px;\n",
              "    }\n",
              "\n",
              "    .colab-df-convert {\n",
              "      background-color: #E8F0FE;\n",
              "      border: none;\n",
              "      border-radius: 50%;\n",
              "      cursor: pointer;\n",
              "      display: none;\n",
              "      fill: #1967D2;\n",
              "      height: 32px;\n",
              "      padding: 0 0 0 0;\n",
              "      width: 32px;\n",
              "    }\n",
              "\n",
              "    .colab-df-convert:hover {\n",
              "      background-color: #E2EBFA;\n",
              "      box-shadow: 0px 1px 2px rgba(60, 64, 67, 0.3), 0px 1px 3px 1px rgba(60, 64, 67, 0.15);\n",
              "      fill: #174EA6;\n",
              "    }\n",
              "\n",
              "    [theme=dark] .colab-df-convert {\n",
              "      background-color: #3B4455;\n",
              "      fill: #D2E3FC;\n",
              "    }\n",
              "\n",
              "    [theme=dark] .colab-df-convert:hover {\n",
              "      background-color: #434B5C;\n",
              "      box-shadow: 0px 1px 3px 1px rgba(0, 0, 0, 0.15);\n",
              "      filter: drop-shadow(0px 1px 2px rgba(0, 0, 0, 0.3));\n",
              "      fill: #FFFFFF;\n",
              "    }\n",
              "  </style>\n",
              "\n",
              "      <script>\n",
              "        const buttonEl =\n",
              "          document.querySelector('#df-709a1713-ffbe-4d9f-9d1e-340981545272 button.colab-df-convert');\n",
              "        buttonEl.style.display =\n",
              "          google.colab.kernel.accessAllowed ? 'block' : 'none';\n",
              "\n",
              "        async function convertToInteractive(key) {\n",
              "          const element = document.querySelector('#df-709a1713-ffbe-4d9f-9d1e-340981545272');\n",
              "          const dataTable =\n",
              "            await google.colab.kernel.invokeFunction('convertToInteractive',\n",
              "                                                     [key], {});\n",
              "          if (!dataTable) return;\n",
              "\n",
              "          const docLinkHtml = 'Like what you see? Visit the ' +\n",
              "            '<a target=\"_blank\" href=https://colab.research.google.com/notebooks/data_table.ipynb>data table notebook</a>'\n",
              "            + ' to learn more about interactive tables.';\n",
              "          element.innerHTML = '';\n",
              "          dataTable['output_type'] = 'display_data';\n",
              "          await google.colab.output.renderOutput(dataTable, element);\n",
              "          const docLink = document.createElement('div');\n",
              "          docLink.innerHTML = docLinkHtml;\n",
              "          element.appendChild(docLink);\n",
              "        }\n",
              "      </script>\n",
              "    </div>\n",
              "  </div>\n",
              "  "
            ]
          },
          "metadata": {},
          "execution_count": 15
        }
      ]
    },
    {
      "cell_type": "code",
      "source": [
        "Ncol = len(corr_hagn)\n",
        "\n",
        "fig, ax = plt.subplots(3,Ncol,figsize=(9,6), sharex=True, sharey='row', gridspec_kw={'height_ratios': [3, 3, 3]})\n",
        "\n",
        "plt.subplots_adjust(wspace=0.1, hspace=0.2)\n",
        "\n",
        "fontsize=14\n",
        "plt.rc('font', family='serif')\n",
        "plt.rc('xtick', labelsize=16)\n",
        "plt.rc('ytick', labelsize=16)\n",
        "plt.rc('text', usetex=True)\n",
        "\n",
        "\n",
        "#put correlations in list\n",
        "corr = []\n",
        "for key in corr_hagn:\n",
        "  corr.append(corr_hagn[key])\n",
        "\n",
        "corr_ref = []\n",
        "for key in corr_hagn_ref: \n",
        "  corr_ref.append(corr_hagn_ref[key])\n",
        "\n",
        "#============== plt correlations =============\n",
        "col = 0\n",
        "\n",
        "for i in range(Ncol):\n",
        "\n",
        "  #FS2\n",
        "  ax[0,i].errorbar(corr_ref[i].r, corr_ref[i].r12_v1a-0.5, corr_ref[i].r12_v1a_std, c='k', marker='o', ms=10, ls='', label='HAGN')\n",
        "  ax[1,i].errorbar(corr_ref[i].r, corr_ref[i].r12_v1b-0.5, corr_ref[i].r12_v1b_std, c='k', marker='o', ms=10, ls='', label='HAGN')\n",
        "\n",
        "  #HAGN\n",
        "  ax[0,i].errorbar(corr[i].r, corr[i].r12_v1a-0.5, corr[i].r12_v1a_std, c='r', marker='o', lw=2, ms=10, fillstyle='none', ls='', label='FS2')\n",
        "  ax[1,i].errorbar(corr[i].r, corr[i].r12_v1b-0.5, corr[i].r12_v1b_std, c='r', marker='o', lw=2, ms=10, fillstyle='none', ls='', label='FS2')\n",
        "\n",
        "\n",
        "  #FS2 / HAGN - 1\n",
        "  ax[2,i].fill_between(\n",
        "                    corr_ref[i].r,\n",
        "                    -corr_ref[i].r12_v1a_std / (corr_ref[i].r12_v1a-0.5),\n",
        "                    corr_ref[i].r12_v1a_std / (corr_ref[i].r12_v1a-0.5),\n",
        "                    facecolor='lightgrey', interpolate=True)\n",
        "\n",
        "  ax[2,i].errorbar(\n",
        "      corr[i].r,\n",
        "      (corr[i].r12_v1a-0.5) / (corr_ref[i].r12_v1a-0.5) - 1,\n",
        "      (corr[i].r12_v1a_std) / (corr_ref[i].r12_v1a-0.5),\n",
        "      c='r', marker='o', lw=2, ms=10, fillstyle='none', ls='', label='FS2')\n",
        "\n",
        "ax[0,0].set_ylabel(r'$\\eta_A$',fontsize=fontsize)\n",
        "ax[1,0].set_ylabel(r'$\\eta_C$',fontsize=fontsize)\n",
        "ax[2,0].set_ylabel(r'$\\eta_A^{FS2} / \\eta_A^{HAGN}-1$',fontsize=14)\n",
        "\n",
        "#============ config ===========\n",
        "\n",
        "titles = ['m1', 'm2', 'm3']\n",
        "\n",
        "\n",
        "# set y-tics\n",
        "ax[0,0].set_yticks(np.arange(-0.2, 0.2, step=0.05))#top row\n",
        "ax[1,0].set_yticks(np.arange(-0.2, 0.2, step=0.05))#top row\n",
        "ax[2,0].set_yticks(np.arange(-6, 6, step=2))#central row\n",
        "\n",
        "\n",
        "for i in range(Ncol):\n",
        "    \n",
        "\n",
        "    ax[0,i].set_title(titles[i], fontsize = fontsize)\n",
        "\n",
        "    ax[-1,i].set_xlabel(r'$r_{12} \\ [h^{-1} \\textrm{Mpc}]$', fontsize = fontsize)\n",
        "    \n",
        "    ax[0,i].set_ylim(-0.02,0.11)\n",
        "    ax[1,i].set_ylim(-0.11,0.02)\n",
        "    ax[2,i].set_ylim(-5,5)\n",
        "\n",
        "    ax[2,i].axhline(y=-1, c='k', ls='--')\n",
        "    ax[2,i].axhline(y=1, c='k', ls='--')\n",
        "\n",
        "    for j in range(3):\n",
        "        ax[j,i].axhline(y=0.0, c='k', linestyle='--')\n",
        "        \n",
        "    for j in range(2):\n",
        "        ax[j,i].set_xscale('log')\n",
        "        ax[j,i].tick_params(axis='both',labelsize=fontsize)\n",
        "\n",
        "ax[0,-1].legend(loc='upper right', fontsize = 12)\n",
        " \n",
        "\n",
        "plt.tight_layout()\n",
        "plt.savefig('eta_fs2_vs_hagn.pdf', bbox_inches='tight',transparent=False, pad_inches=0.2)\n",
        "plt.show()\n",
        "\n",
        "plt.show()"
      ],
      "metadata": {
        "colab": {
          "base_uri": "https://localhost:8080/",
          "height": 441
        },
        "id": "R4QqW-V1tHXV",
        "outputId": "2e94b957-67e3-416c-ddb2-8e1e303ecc35"
      },
      "execution_count": 16,
      "outputs": [
        {
          "output_type": "display_data",
          "data": {
            "text/plain": [
              "<Figure size 648x432 with 9 Axes>"
            ],
            "image/png": "[encoded data removed]"
          },
          "metadata": {
            "needs_background": "light"
          }
        }
      ]
    },
    {
      "cell_type": "code",
      "source": [
        "files.download(\"eta_fs2_vs_hagn.pdf\")"
      ],
      "metadata": {
        "colab": {
          "base_uri": "https://localhost:8080/",
          "height": 17
        },
        "id": "30U3eNSUwSX3",
        "outputId": "e59e9a8f-0647-40b9-85b5-7f76b8127423"
      },
      "execution_count": 17,
      "outputs": [
        {
          "output_type": "display_data",
          "data": {
            "text/plain": [
              "<IPython.core.display.Javascript object>"
            ],
            "application/javascript": [
              "\n",
              "    async function download(id, filename, size) {\n",
              "      if (!google.colab.kernel.accessAllowed) {\n",
              "        return;\n",
              "      }\n",
              "      const div = document.createElement('div');\n",
              "      const label = document.createElement('label');\n",
              "      label.textContent = `Downloading \"${filename}\": `;\n",
              "      div.appendChild(label);\n",
              "      const progress = document.createElement('progress');\n",
              "      progress.max = size;\n",
              "      div.appendChild(progress);\n",
              "      document.body.appendChild(div);\n",
              "\n",
              "      const buffers = [];\n",
              "      let downloaded = 0;\n",
              "\n",
              "      const channel = await google.colab.kernel.comms.open(id);\n",
              "      // Send a message to notify the kernel that we're ready.\n",
              "      channel.send({})\n",
              "\n",
              "      for await (const message of channel.messages) {\n",
              "        // Send a message to notify the kernel that we're ready.\n",
              "        channel.send({})\n",
              "        if (message.buffers) {\n",
              "          for (const buffer of message.buffers) {\n",
              "            buffers.push(buffer);\n",
              "            downloaded += buffer.byteLength;\n",
              "            progress.value = downloaded;\n",
              "          }\n",
              "        }\n",
              "      }\n",
              "      const blob = new Blob(buffers, {type: 'application/binary'});\n",
              "      const a = document.createElement('a');\n",
              "      a.href = window.URL.createObjectURL(blob);\n",
              "      a.download = filename;\n",
              "      div.appendChild(a);\n",
              "      a.click();\n",
              "      div.remove();\n",
              "    }\n",
              "  "
            ]
          },
          "metadata": {}
        },
        {
          "output_type": "display_data",
          "data": {
            "text/plain": [
              "<IPython.core.display.Javascript object>"
            ],
            "application/javascript": [
              "download(\"download_91dd5dce-c469-4e71-b42a-fb2b13da06f6\", \"eta_fs2_vs_hagn.pdf\", 243268)"
            ]
          },
          "metadata": {}
        }
      ]
    },
    {
      "cell_type": "code",
      "source": [],
      "metadata": {
        "id": "C3LxukwewXPy"
      },
      "execution_count": null,
      "outputs": []
    }
  ]
}